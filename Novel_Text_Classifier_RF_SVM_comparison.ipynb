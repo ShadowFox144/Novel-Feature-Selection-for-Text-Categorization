{
 "cells": [
  {
   "cell_type": "markdown",
   "metadata": {
    "id": "2W2zzHm3g8t1"
   },
   "source": [
    "## A Two-stage Feature Selection method for Text Categorization"
   ]
  },
  {
   "cell_type": "markdown",
   "metadata": {
    "id": "fPc6NtMjg9JY"
   },
   "source": [
    "\n",
    "\n",
    "\n",
    "\n",
    "\n",
    "\n"
   ]
  },
  {
   "cell_type": "code",
   "execution_count": 1,
   "metadata": {
    "id": "PAjme-WzZ7L4"
   },
   "outputs": [],
   "source": [
    "import pandas as pd\n",
    "Corpus = pd.read_csv('Datasets/messages.csv')"
   ]
  },
  {
   "cell_type": "code",
   "execution_count": 2,
   "metadata": {
    "colab": {
     "base_uri": "https://localhost:8080/",
     "height": 189
    },
    "id": "HpAAvQHxh76g",
    "outputId": "ae1cb182-a48b-4955-c75c-f5e960a01391"
   },
   "outputs": [
    {
     "data": {
      "text/html": [
       "<div>\n",
       "<style scoped>\n",
       "    .dataframe tbody tr th:only-of-type {\n",
       "        vertical-align: middle;\n",
       "    }\n",
       "\n",
       "    .dataframe tbody tr th {\n",
       "        vertical-align: top;\n",
       "    }\n",
       "\n",
       "    .dataframe thead th {\n",
       "        text-align: right;\n",
       "    }\n",
       "</style>\n",
       "<table border=\"1\" class=\"dataframe\">\n",
       "  <thead>\n",
       "    <tr style=\"text-align: right;\">\n",
       "      <th></th>\n",
       "      <th>subject</th>\n",
       "      <th>message</th>\n",
       "      <th>label</th>\n",
       "    </tr>\n",
       "  </thead>\n",
       "  <tbody>\n",
       "    <tr>\n",
       "      <th>0</th>\n",
       "      <td>job posting - apple-iss research center</td>\n",
       "      <td>content - length : 3386 apple-iss research cen...</td>\n",
       "      <td>0</td>\n",
       "    </tr>\n",
       "    <tr>\n",
       "      <th>1</th>\n",
       "      <td>NaN</td>\n",
       "      <td>lang classification grimes , joseph e . and ba...</td>\n",
       "      <td>0</td>\n",
       "    </tr>\n",
       "    <tr>\n",
       "      <th>2</th>\n",
       "      <td>query : letter frequencies for text identifica...</td>\n",
       "      <td>i am posting this inquiry for sergei atamas ( ...</td>\n",
       "      <td>0</td>\n",
       "    </tr>\n",
       "    <tr>\n",
       "      <th>3</th>\n",
       "      <td>risk</td>\n",
       "      <td>a colleague and i are researching the differin...</td>\n",
       "      <td>0</td>\n",
       "    </tr>\n",
       "    <tr>\n",
       "      <th>4</th>\n",
       "      <td>request book information</td>\n",
       "      <td>earlier this morning i was on the phone with a...</td>\n",
       "      <td>0</td>\n",
       "    </tr>\n",
       "  </tbody>\n",
       "</table>\n",
       "</div>"
      ],
      "text/plain": [
       "                                             subject  \\\n",
       "0            job posting - apple-iss research center   \n",
       "1                                                NaN   \n",
       "2  query : letter frequencies for text identifica...   \n",
       "3                                               risk   \n",
       "4                           request book information   \n",
       "\n",
       "                                             message  label  \n",
       "0  content - length : 3386 apple-iss research cen...      0  \n",
       "1  lang classification grimes , joseph e . and ba...      0  \n",
       "2  i am posting this inquiry for sergei atamas ( ...      0  \n",
       "3  a colleague and i are researching the differin...      0  \n",
       "4  earlier this morning i was on the phone with a...      0  "
      ]
     },
     "execution_count": 2,
     "metadata": {},
     "output_type": "execute_result"
    }
   ],
   "source": [
    "Corpus.head()"
   ]
  },
  {
   "cell_type": "code",
   "execution_count": 4,
   "metadata": {
    "id": "jQiKM7Kih7_r"
   },
   "outputs": [
    {
     "ename": "ModuleNotFoundError",
     "evalue": "No module named 'seaborn'",
     "output_type": "error",
     "traceback": [
      "\u001b[0;31m---------------------------------------------------------------------------\u001b[0m",
      "\u001b[0;31mModuleNotFoundError\u001b[0m                       Traceback (most recent call last)",
      "\u001b[0;32m<ipython-input-4-9db0c3a7206b>\u001b[0m in \u001b[0;36m<module>\u001b[0;34m\u001b[0m\n\u001b[1;32m     15\u001b[0m \u001b[0;34m\u001b[0m\u001b[0m\n\u001b[1;32m     16\u001b[0m \u001b[0;31m#Import Seaborn\u001b[0m\u001b[0;34m\u001b[0m\u001b[0;34m\u001b[0m\u001b[0;34m\u001b[0m\u001b[0m\n\u001b[0;32m---> 17\u001b[0;31m \u001b[0;32mimport\u001b[0m \u001b[0mseaborn\u001b[0m \u001b[0;32mas\u001b[0m \u001b[0msns\u001b[0m\u001b[0;34m;\u001b[0m\u001b[0;34m\u001b[0m\u001b[0;34m\u001b[0m\u001b[0m\n\u001b[0m\u001b[1;32m     18\u001b[0m \u001b[0msns\u001b[0m\u001b[0;34m.\u001b[0m\u001b[0mset\u001b[0m\u001b[0;34m(\u001b[0m\u001b[0;34m)\u001b[0m\u001b[0;34m\u001b[0m\u001b[0;34m\u001b[0m\u001b[0m\n\u001b[1;32m     19\u001b[0m \u001b[0;34m\u001b[0m\u001b[0m\n",
      "\u001b[0;31mModuleNotFoundError\u001b[0m: No module named 'seaborn'"
     ]
    }
   ],
   "source": [
    "import pandas as pd\n",
    "import numpy as np\n",
    "import nltk\n",
    "from nltk.tokenize import word_tokenize\n",
    "from nltk import pos_tag\n",
    "from nltk.corpus import stopwords\n",
    "from nltk.stem import WordNetLemmatizer\n",
    "from sklearn.preprocessing import LabelEncoder\n",
    "from collections import defaultdict\n",
    "from nltk.corpus import wordnet as wn\n",
    "from sklearn.feature_extraction.text import TfidfVectorizter\n",
    "from sklearn import model_selection, naive_bayes, svm\n",
    "from sklearn.metrics import accuracy_score, f1_score\n",
    "\n",
    "\n",
    "#Import Seaborn\n",
    "import seaborn as sns; \n",
    "sns.set()\n",
    "\n",
    "#Import matplot library\n",
    "import matplotlib.pyplot as plt"
   ]
  },
  {
   "cell_type": "code",
   "execution_count": 4,
   "metadata": {
    "colab": {
     "base_uri": "https://localhost:8080/"
    },
    "id": "ddFE-11mhyDB",
    "outputId": "f117548e-1c75-48b7-822c-f83b65294c2a"
   },
   "outputs": [
    {
     "name": "stderr",
     "output_type": "stream",
     "text": [
      "[nltk_data] Downloading package punkt to /home/shadowfox/nltk_data...\n",
      "[nltk_data]   Unzipping tokenizers/punkt.zip.\n",
      "[nltk_data] Downloading package wordnet to\n",
      "[nltk_data]     /home/shadowfox/nltk_data...\n",
      "[nltk_data]   Unzipping corpora/wordnet.zip.\n",
      "[nltk_data] Downloading package averaged_perceptron_tagger to\n",
      "[nltk_data]     /home/shadowfox/nltk_data...\n",
      "[nltk_data]   Unzipping taggers/averaged_perceptron_tagger.zip.\n",
      "[nltk_data] Downloading package stopwords to\n",
      "[nltk_data]     /home/shadowfox/nltk_data...\n",
      "[nltk_data]   Unzipping corpora/stopwords.zip.\n",
      "[nltk_data] Downloading package words to /home/shadowfox/nltk_data...\n",
      "[nltk_data]   Unzipping corpora/words.zip.\n"
     ]
    },
    {
     "data": {
      "text/plain": [
       "True"
      ]
     },
     "execution_count": 4,
     "metadata": {},
     "output_type": "execute_result"
    }
   ],
   "source": [
    "nltk.download('punkt')\n",
    "nltk.download('wordnet')\n",
    "nltk.download('averaged_perceptron_tagger')\n",
    "nltk.download('stopwords')\n",
    "nltk.download('words')"
   ]
  },
  {
   "cell_type": "markdown",
   "metadata": {
    "id": "4sWYOmhWbvSq"
   },
   "source": [
    "#Step 1. Remove stop words, punctuation, and non-alphanumeric text."
   ]
  },
  {
   "cell_type": "code",
   "execution_count": 5,
   "metadata": {
    "id": "--r8JjWkU3La"
   },
   "outputs": [],
   "source": [
    "# Step - a : Remove blank rows if any.\n",
    "# Corpus = Corpus[:1000]\n",
    "Corpus['message'].dropna(inplace=True)\n",
    "# Step - b : Change all the text to lower case. This is required as python interprets 'dog' and 'DOG' differently\n",
    "Corpus['message'] = [entry.lower() for entry in Corpus['message']]\n",
    "# Step - c : Tokenization : In this each entry in the corpus will be broken into set of words\n",
    "Corpus['message'] = [word_tokenize(entry) for entry in Corpus['message']]"
   ]
  },
  {
   "cell_type": "code",
   "execution_count": 6,
   "metadata": {
    "colab": {
     "base_uri": "https://localhost:8080/"
    },
    "id": "yIdSTWM9VF4B",
    "outputId": "6e1a747f-3325-485e-8d6d-198ec7690a03"
   },
   "outputs": [
    {
     "name": "stdout",
     "output_type": "stream",
     "text": [
      "['lang', 'classification', 'grimes', ',', 'joseph', 'e', '.', 'and', 'barbara', 'f', '.', 'grimes', ';', 'ethnologue', 'language', 'family', 'index', ';', 'pb', '.', 'isbn', ':', '0-88312', '-', '708', '-', '3', ';', 'vi', ',', '116', 'pp', '.', ';', '$', '14', '.', '00', '.', 'summer', 'institute', 'of', 'linguistics', '.', 'this', 'companion', 'volume', 'to', 'ethnologue', ':', 'languages', 'of', 'the', 'world', ',', 'twelfth', 'edition', 'lists', 'language', 'families', 'of', 'the', 'world', 'with', 'sub-groups', 'shown', 'in', 'a', 'tree', 'arrangement', 'under', 'the', 'broadest', 'classification', 'of', 'language', 'family', '.', 'the', 'language', 'family', 'index', 'facilitates', 'locating', 'language', 'names', 'in', 'the', 'ethnologue', ',', 'making', 'the', 'data', 'there', 'more', 'accessible', '.', 'internet', ':', 'academic', '.', 'books', '@', 'sil', '.', 'org', 'languages', ',', 'reference', 'lang', '&', 'culture', 'gregerson', ',', 'marilyn', ';', 'ritual', ',', 'belief', ',', 'and', 'kinship', 'in', 'sulawesi', ';', 'pb', '.', ':', 'isbn', ':', '0-88312', '-', '621', '-', '4', ';', 'ix', ',', '194', 'pp', '.', ';', '$', '25', '.', '00', '.', 'summer', 'institute', 'of', 'linguistics', '.', 'seven', 'articles', 'discuss', 'five', 'language', 'groups', 'in', 'sulawesi', ',', 'indonesia', ';', 'the', 'primary', 'focus', 'is', 'on', 'cultural', 'matters', ',', 'with', 'some', 'linguistic', 'content', '.', 'topics', 'include', 'traditional', 'religion', 'and', 'beliefs', ',', 'certain', 'ceremonies', ',', 'and', 'kinship', '.', 'internet', ':', 'academic', '.', 'books', '@', 'sil', '.', 'org', 'language', 'and', 'society', ',', 'indonesia', 'computers', '&', 'ling', 'weber', ',', 'david', 'j', '.', ',', 'stephen', 'r', '.', 'mcconnel', ',', 'diana', 'd', '.', 'weber', ',', 'and', 'beth', 'j', '.', 'bryson', ';', 'primer', ':', 'a', 'tool', 'for', 'developing', 'early', 'reading', 'materials', ';', 'pb', '.', ':', 'isbn', ':', '0-88313', '-', '678', '-', '8', ';', 'xvi', ',', '266', 'pp', '.', '+', 'ms-dos', 'software', ';', '$', '26', '.', '00', '.', 'summer', 'institute', 'of', 'linguistics', '.', 'the', 'authors', 'present', 'a', 'computer', 'program', 'and', 'instructions', 'for', 'developing', 'reading', 'materials', 'in', 'languages', 'with', 'little', 'or', 'no', 'background', 'in', 'literacy', '.', 'the', 'book', 'is', 'structured', 'as', 'a', 'how-to', 'manual', 'with', 'step', 'by', 'step', 'procedures', 'to', 'establish', 'an', 'appropriate', 'primer', 'sequence', 'and', 'to', 'organize', 'words', ',', 'phrases', ',', 'and', 'sentences', 'that', 'correlate', 'with', 'the', 'sequence', '.', 'it', 'presupposes', 'a', 'thorough', 'knowledge', 'of', 'linguistics', '.', 'internet', ':', 'academic', '.', 'books', '@', 'sil', '.', 'org', 'literacy', ',', 'computer']\n"
     ]
    }
   ],
   "source": [
    "print(Corpus['message'][1])"
   ]
  },
  {
   "cell_type": "code",
   "execution_count": 7,
   "metadata": {
    "id": "8VfJdeFdhZ1Y"
   },
   "outputs": [],
   "source": [
    "# Step - d : Remove Stop words, Non-Numeric and perfom Word Stemming/Lemmenting.\n",
    "# WordNetLemmatizer requires Pos tags to understand if the word is noun or verb or adjective etc. By default it is set to Noun\n",
    "tag_map = defaultdict(lambda : wn.NOUN)\n",
    "tag_map['J'] = wn.ADJ\n",
    "tag_map['V'] = wn.VERB\n",
    "tag_map['R'] = wn.ADV\n",
    "for index,entry in enumerate(Corpus['message']):\n",
    "    # Declaring Empty List to store the words that follow the rules for this step\n",
    "    Final_words = []\n",
    "    # Initializing WordNetLemmatizer()\n",
    "    word_Lemmatized = WordNetLemmatizer()\n",
    "    # pos_tag function below will provide the 'tag' i.e if the word is Noun(N) or Verb(V) or something else.\n",
    "    for word, tag in pos_tag(entry):\n",
    "        # Below condition is to check for Stop wLoadingords and consider only alphabets\n",
    "        if word not in stopwords.words('english') and word.isalpha():\n",
    "            word_Final = word_Lemmatized.lemmatize(word,tag_map[tag[0]])\n",
    "            Final_words.append(word_Final)\n",
    "    # The final processed set of words for each iteration will be stored in 'text_final'\n",
    "    Corpus.loc[index,'text_final0'] = str(Final_words)\n",
    "    "
   ]
  },
  {
   "cell_type": "code",
   "execution_count": 8,
   "metadata": {
    "colab": {
     "base_uri": "https://localhost:8080/"
    },
    "id": "E-GHuwnMfX2_",
    "outputId": "b0da70c9-743c-40cb-a36c-ff2246eb94d7"
   },
   "outputs": [
    {
     "name": "stdout",
     "output_type": "stream",
     "text": [
      "0       ['content', 'length', 'research', 'center', 'u...\n",
      "1       ['lang', 'classification', 'grime', 'joseph', ...\n",
      "2       ['post', 'inquiry', 'sergei', 'atamas', 'satam...\n",
      "3       ['colleague', 'research', 'differ', 'degree', ...\n",
      "4       ['earlier', 'morning', 'phone', 'friend', 'min...\n",
      "                              ...                        \n",
      "2888    ['hello', 'thanks', 'stop', 'take', 'many', 'n...\n",
      "2889    ['list', 'owner', 'kiddin', 'invite', 'join', ...\n",
      "2890    ['judge', 'return', 'post', 'must', 'sound', '...\n",
      "2891    ['gotcha', 'two', 'separate', 'fallacy', 'argu...\n",
      "2892    ['hello', 'work', 'thesis', 'concern', 'attitu...\n",
      "Name: text_final0, Length: 2893, dtype: object\n"
     ]
    }
   ],
   "source": [
    "print(Corpus['text_final0'])"
   ]
  },
  {
   "cell_type": "code",
   "execution_count": 9,
   "metadata": {
    "colab": {
     "base_uri": "https://localhost:8080/"
    },
    "id": "eJD4uLD2VF9Q",
    "outputId": "77605681-972d-4046-ed27-b8a57009bb4f"
   },
   "outputs": [
    {
     "name": "stdout",
     "output_type": "stream",
     "text": [
      "0       [' content ', ' length ', ' research ', ' cent...\n",
      "1       [' ', ' classification ', ' grime ', ' ', ' e ...\n",
      "2       [' post ', ' inquiry ', ' ', ' ', ' ', ' ', ' ...\n",
      "3       [' colleague ', ' research ', ' differ ', ' de...\n",
      "4       [' ', ' morning ', ' phone ', ' friend ', ' mi...\n",
      "                              ...                        \n",
      "2888    [' hello ', ' thanks ', ' stop ', ' take ', ' ...\n",
      "2889    [' list ', ' owner ', ' ', ' invite ', ' join ...\n",
      "2890    [' judge ', ' return ', ' post ', ' must ', ' ...\n",
      "2891    [' ', ' two ', ' separate ', ' fallacy ', ' ar...\n",
      "2892    [' hello ', ' work ', ' thesis ', ' concern ',...\n",
      "Name: text_final0, Length: 2893, dtype: object\n"
     ]
    }
   ],
   "source": [
    "words = set(nltk.corpus.words.words())\n",
    "\n",
    "def clean_sent(sent):\n",
    "    return \" \".join(w for w in nltk.wordpunct_tokenize(sent) \\\n",
    "     if w.lower() in words or not w.isalpha())\n",
    "    \n",
    "Corpus['text_final0'] = Corpus['text_final0'].apply(clean_sent)\n",
    "\n",
    "print(Corpus['text_final0'])"
   ]
  },
  {
   "cell_type": "code",
   "execution_count": 10,
   "metadata": {
    "id": "2WpsJO8Lb0eS"
   },
   "outputs": [],
   "source": [
    "def FCD(Corpus, max_features):\n",
    "  Corpus_sorted = Corpus.sort_values(by=['label'])\n",
    "  print(Corpus_sorted['label'])"
   ]
  },
  {
   "cell_type": "markdown",
   "metadata": {
    "id": "99Qo9mjBVGCa"
   },
   "source": [
    "#Splitting data into Training and Testing data\n"
   ]
  },
  {
   "cell_type": "code",
   "execution_count": 11,
   "metadata": {
    "id": "neg_eLMn4ulF"
   },
   "outputs": [],
   "source": [
    "Train_X, Test_X, Train_Y, Test_Y = model_selection.train_test_split(Corpus['text_final0'],Corpus['label'],test_size=0.3, random_state = 42)"
   ]
  },
  {
   "cell_type": "code",
   "execution_count": 12,
   "metadata": {
    "colab": {
     "base_uri": "https://localhost:8080/",
     "height": 573
    },
    "id": "nhVC6uQ74w6I",
    "outputId": "1accbb5a-0cf5-48aa-bf9e-67887b01116e"
   },
   "outputs": [
    {
     "data": {
      "image/png": "[encoded data removed]",
      "text/plain": [
       "<Figure size 1400x700 with 1 Axes>"
      ]
     },
     "metadata": {},
     "output_type": "display_data"
    }
   ],
   "source": [
    "df = pd.DataFrame(Test_Y)\n",
    "lb=df.value_counts().index.tolist()\n",
    "val=df.value_counts().values.tolist()\n",
    "exp=(0.025,0)\n",
    "clr=('orange','blue')\n",
    "plt.figure(figsize=(10,5),dpi=140)\n",
    "plt.pie(x=val,explode=exp,labels=lb,colors=clr,autopct='%2.0f%%',pctdistance=0.5, shadow=True,radius=0.9)\n",
    "plt.legend([\"0 = NO SPAM\",'1 = SPAM'])\n",
    "plt.show()"
   ]
  },
  {
   "cell_type": "code",
   "execution_count": 13,
   "metadata": {
    "colab": {
     "base_uri": "https://localhost:8080/"
    },
    "id": "abSTi2wqkKZr",
    "outputId": "da611824-b7d7-4b0c-82e2-78541c16afeb"
   },
   "outputs": [
    {
     "name": "stdout",
     "output_type": "stream",
     "text": [
      "(2893, 4)\n",
      "2215    0\n",
      "1210    0\n",
      "821     0\n",
      "343     0\n",
      "2655    0\n",
      "       ..\n",
      "1638    0\n",
      "1095    0\n",
      "1130    0\n",
      "1294    0\n",
      "860     0\n",
      "Name: label, Length: 2025, dtype: int64\n"
     ]
    }
   ],
   "source": [
    "print(Corpus.shape)\n",
    "print(Train_Y)"
   ]
  },
  {
   "cell_type": "markdown",
   "metadata": {
    "id": "_2KEs0-hatUi"
   },
   "source": [
    "# Step 2. Calculate the normalized TFIDF in the corresponding element of the weight matrix."
   ]
  },
  {
   "cell_type": "code",
   "execution_count": 14,
   "metadata": {
    "id": "8dJnIbSZaLfc"
   },
   "outputs": [],
   "source": [
    "Tfidf_vect = TfidfVectorizer(max_features=15000)\n",
    "Tfidf_vect.fit(Corpus['text_final0'])\n",
    "Train_X_Tfidf = Tfidf_vect.transform(Train_X)   \n",
    "Test_X_Tfidf = Tfidf_vect.transform(Test_X)"
   ]
  },
  {
   "cell_type": "code",
   "execution_count": null,
   "metadata": {
    "id": "ERQpV3M9jpVT"
   },
   "outputs": [],
   "source": []
  },
  {
   "cell_type": "markdown",
   "metadata": {
    "id": "Zi8o9yPKjqSg"
   },
   "source": [
    "# Step 4.Calculating LSI(SVD) for Output of TF-IDF"
   ]
  },
  {
   "cell_type": "code",
   "execution_count": 30,
   "metadata": {
    "id": "hO3MWUX7kA3F"
   },
   "outputs": [],
   "source": [
    "import sklearn\n",
    "from sklearn.decomposition import TruncatedSVD\n",
    "acc_val = []\n",
    "steps = list(range(2,250))\n",
    "             \n",
    "for i in steps:\n",
    "    SVD = sklearn.decomposition.TruncatedSVD(n_components=i, algorithm='randomized', n_iter=5, random_state=None, tol=0.0)\n",
    "    SVD.fit(Train_X_Tfidf)\n",
    "    Train_X_SVD = SVD.transform(Train_X_Tfidf)\n",
    "    Test_X_SVD = SVD.transform(Test_X_Tfidf\n",
    "    \n",
    "    from sklearn import svm\n",
    "    clf = svm.SVC()\n",
    "    clf.fit(Train_X_SVD, Train_Y)\n",
    "    acc_val.append(clf.score(Test_X_SVD,Test_Y)*100)  "
   ]
  },
  {
   "cell_type": "code",
   "execution_count": 16,
   "metadata": {
    "id": "VELuRZlUht4F"
   },
   "outputs": [],
   "source": [
    "# from sklearn.utils.extmath import randomized_svd\n",
    "\n",
    "# U, Sigma, VT = randomized_svxd(Train_X_Tfidf, \n",
    "#                               n_components=15,\n",
    "#                               n_iter=5,\n",
    "#                               random_state=None)\n",
    "# Train_X_SVD = U"
   ]
  },
  {
   "cell_type": "code",
   "execution_count": 31,
   "metadata": {},
   "outputs": [
    {
     "data": {
      "text/plain": [
       "[<matplotlib.lines.Line2D at 0x7f8dd868a7b8>]"
      ]
     },
     "execution_count": 31,
     "metadata": {},
     "output_type": "execute_result"
    },
    {
     "data": {
      "image/png": "[encoded data removed]",
      "text/plain": [
       "<Figure size 432x288 with 1 Axes>"
      ]
     },
     "metadata": {},
     "output_type": "display_data"
    }
   ],
   "source": [
    "plt.plot(steps, acc_val)"
   ]
  },
  {
   "cell_type": "code",
   "execution_count": 17,
   "metadata": {
    "colab": {
     "base_uri": "https://localhost:8080/"
    },
    "id": "sIIj8_JuegeK",
    "outputId": "d2467167-9056-4e49-b178-e3190562cbbf"
   },
   "outputs": [
    {
     "name": "stdout",
     "output_type": "stream",
     "text": [
      "(2025, 20)\n",
      "(868, 20)\n"
     ]
    }
   ],
   "source": [
    "print(Train_X_SVD.shape)\n",
    "print(Test_X_SVD.shape)"
   ]
  },
  {
   "cell_type": "code",
   "execution_count": 18,
   "metadata": {
    "id": "BM6EgJuqe4-m"
   },
   "outputs": [],
   "source": [
    "# from sklearn.ensemble import RandomForestClassifier\n",
    "\n",
    "# vectorizer = TfidfVectorizer(max_df=0.5, stop_words='english', use_idf=True)\n",
    "# lsa = TruncatedSVD(n_components=20)\n",
    "# Tfidf_vect.fit(Corpus['text_final0'])\n",
    "\n",
    "# train_text = vectorizer.fit_transform(Train_X)\n",
    "# test_text = vectorizer.fit_transform(Test_X)\n",
    "\n",
    "# train_text = lsa.fit_transform(train_text)\n",
    "# test_text = lsa.fit_transform(test_text)\n",
    "\n",
    "\n",
    "# clf = RandomForestClassifier(max_depth=20, random_state=0)\n",
    "# clf.fit(train_text, Train_Y)\n",
    "# clf.score(test_text,Test_Y)"
   ]
  },
  {
   "cell_type": "code",
   "execution_count": null,
   "metadata": {
    "id": "urTWrEFDj14P"
   },
   "outputs": [],
   "source": []
  },
  {
   "cell_type": "markdown",
   "metadata": {
    "id": "_4CWHO4qj3dJ"
   },
   "source": [
    "#Step5. Passing the SVD output to ML model for training and testing "
   ]
  },
  {
   "cell_type": "code",
   "execution_count": null,
   "metadata": {
    "id": "KL8WfKpHkYQj"
   },
   "outputs": [],
   "source": []
  },
  {
   "cell_type": "markdown",
   "metadata": {
    "id": "BIqyZ_ajkZj4"
   },
   "source": [
    "#5.1 RandomForest"
   ]
  },
  {
   "cell_type": "code",
   "execution_count": 19,
   "metadata": {
    "colab": {
     "base_uri": "https://localhost:8080/"
    },
    "id": "HYiSJ6c4jS-8",
    "outputId": "23e3c72b-554f-4a6e-d98b-a0314b6e7d54"
   },
   "outputs": [
    {
     "data": {
      "text/plain": [
       "0.9850230414746544"
      ]
     },
     "execution_count": 19,
     "metadata": {},
     "output_type": "execute_result"
    }
   ],
   "source": [
    "from sklearn.ensemble import RandomForestClassifier\n",
    "clf = RandomForestClassifier(max_depth=20, random_state=0)\n",
    "clf.fit(Train_X_SVD, Train_Y)\n",
    "clf.score(Test_X_SVD,Test_Y)"
   ]
  },
  {
   "cell_type": "code",
   "execution_count": 20,
   "metadata": {
    "colab": {
     "base_uri": "https://localhost:8080/"
    },
    "id": "HevhCQiRe5aV",
    "outputId": "068c05a2-1e69-4c05-9b77-82a311ac16ff"
   },
   "outputs": [
    {
     "data": {
      "text/plain": [
       "0.9412442396313364"
      ]
     },
     "execution_count": 20,
     "metadata": {},
     "output_type": "execute_result"
    }
   ],
   "source": [
    "from sklearn.ensemble import RandomForestClassifier\n",
    "clf = RandomForestClassifier(max_depth=20, random_state=0)\n",
    "clf.fit(Train_X_Tfidf, Train_Y)\n",
    "clf.score(Test_X_Tfidf,Test_Y)"
   ]
  },
  {
   "cell_type": "markdown",
   "metadata": {
    "id": "-dZUA6_vkfYA"
   },
   "source": [
    "# 5.2 SVM"
   ]
  },
  {
   "cell_type": "code",
   "execution_count": 21,
   "metadata": {
    "colab": {
     "base_uri": "https://localhost:8080/"
    },
    "id": "U0DysPxEkijS",
    "outputId": "ce00e8cc-0c65-4ceb-bf14-41bebef9026b"
   },
   "outputs": [
    {
     "data": {
      "text/plain": [
       "0.9953917050691244"
      ]
     },
     "execution_count": 21,
     "metadata": {},
     "output_type": "execute_result"
    }
   ],
   "source": [
    "from sklearn import svm\n",
    "clf = svm.SVC()\n",
    "clf.fit(Train_X_SVD, Train_Y)\n",
    "clf.score(Test_X_SVD,Test_Y)"
   ]
  },
  {
   "cell_type": "code",
   "execution_count": 22,
   "metadata": {
    "colab": {
     "base_uri": "https://localhost:8080/"
    },
    "id": "PBXGdY77lFS9",
    "outputId": "811b3d08-56d4-4dbf-877e-0c27f6e7514b"
   },
   "outputs": [
    {
     "data": {
      "text/plain": [
       "0.9758064516129032"
      ]
     },
     "execution_count": 22,
     "metadata": {},
     "output_type": "execute_result"
    }
   ],
   "source": [
    "from sklearn import svm\n",
    "clf = svm.SVC()\n",
    "clf.fit(Train_X_Tfidf, Train_Y)\n",
    "clf.score(Test_X_Tfidf,Test_Y)"
   ]
  }
 ],
 "metadata": {
  "accelerator": "TPU",
  "colab": {
   "collapsed_sections": [],
   "name": "Novel_Text_Classifier.ipynb",
   "provenance": []
  },
  "kernelspec": {
   "display_name": "Python 3",
   "language": "python",
   "name": "python3"
  },
  "language_info": {
   "codemirror_mode": {
    "name": "ipython",
    "version": 3
   },
   "file_extension": ".py",
   "mimetype": "text/x-python",
   "name": "python",
   "nbconvert_exporter": "python",
   "pygments_lexer": "ipython3",
   "version": "3.8.11"
  }
 },
 "nbformat": 4,
 "nbformat_minor": 4
}
