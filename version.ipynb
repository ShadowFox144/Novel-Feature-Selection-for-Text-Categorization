{
  "nbformat": 4,
  "nbformat_minor": 0,
  "metadata": {
    "accelerator": "TPU",
    "colab": {
      "name": "v2.0.ipynb",
      "provenance": [],
      "collapsed_sections": []
    },
    "kernelspec": {
      "display_name": "Python 3",
      "language": "python",
      "name": "python3"
    },
    "language_info": {
      "codemirror_mode": {
        "name": "ipython",
        "version": 3
      },
      "file_extension": ".py",
      "mimetype": "text/x-python",
      "name": "python",
      "nbconvert_exporter": "python",
      "pygments_lexer": "ipython3",
      "version": "3.6.9"
    }
  },
  "cells": [
    {
      "cell_type": "markdown",
      "metadata": {
        "id": "2W2zzHm3g8t1"
      },
      "source": [
        "## A Two-stage Feature Selection method for Text Categorization"
      ]
    },
    {
      "cell_type": "markdown",
      "metadata": {
        "id": "fPc6NtMjg9JY"
      },
      "source": [
        "\n",
        "\n",
        "\n",
        "\n",
        "\n",
        "\n"
      ]
    },
    {
      "cell_type": "code",
      "metadata": {
        "colab": {
          "base_uri": "https://localhost:8080/"
        },
        "id": "WBA8bbPQbg2d",
        "outputId": "6dec0afb-32e6-4c46-8c0b-be8ea94df553"
      },
      "source": [
        "from google.colab import drive\n",
        "drive.mount('/content/drive')"
      ],
      "execution_count": 1,
      "outputs": [
        {
          "output_type": "stream",
          "text": [
            "Mounted at /content/drive\n"
          ],
          "name": "stdout"
        }
      ]
    },
    {
      "cell_type": "code",
      "metadata": {
        "id": "PAjme-WzZ7L4"
      },
      "source": [
        "import pandas as pd\n",
        "Corpus = pd.read_csv('/content/drive/MyDrive/ML_C_Proj/messages.csv')"
      ],
      "execution_count": 2,
      "outputs": []
    },
    {
      "cell_type": "code",
      "metadata": {
        "colab": {
          "base_uri": "https://localhost:8080/",
          "height": 206
        },
        "id": "HpAAvQHxh76g",
        "outputId": "efa64b29-48cd-4fd0-a128-5f29662e91b8"
      },
      "source": [
        "Corpus.head()"
      ],
      "execution_count": 3,
      "outputs": [
        {
          "output_type": "execute_result",
          "data": {
            "text/html": [
              "<div>\n",
              "<style scoped>\n",
              "    .dataframe tbody tr th:only-of-type {\n",
              "        vertical-align: middle;\n",
              "    }\n",
              "\n",
              "    .dataframe tbody tr th {\n",
              "        vertical-align: top;\n",
              "    }\n",
              "\n",
              "    .dataframe thead th {\n",
              "        text-align: right;\n",
              "    }\n",
              "</style>\n",
              "<table border=\"1\" class=\"dataframe\">\n",
              "  <thead>\n",
              "    <tr style=\"text-align: right;\">\n",
              "      <th></th>\n",
              "      <th>subject</th>\n",
              "      <th>message</th>\n",
              "      <th>label</th>\n",
              "    </tr>\n",
              "  </thead>\n",
              "  <tbody>\n",
              "    <tr>\n",
              "      <th>0</th>\n",
              "      <td>job posting - apple-iss research center</td>\n",
              "      <td>content - length : 3386 apple-iss research cen...</td>\n",
              "      <td>0</td>\n",
              "    </tr>\n",
              "    <tr>\n",
              "      <th>1</th>\n",
              "      <td>NaN</td>\n",
              "      <td>lang classification grimes , joseph e . and ba...</td>\n",
              "      <td>0</td>\n",
              "    </tr>\n",
              "    <tr>\n",
              "      <th>2</th>\n",
              "      <td>query : letter frequencies for text identifica...</td>\n",
              "      <td>i am posting this inquiry for sergei atamas ( ...</td>\n",
              "      <td>0</td>\n",
              "    </tr>\n",
              "    <tr>\n",
              "      <th>3</th>\n",
              "      <td>risk</td>\n",
              "      <td>a colleague and i are researching the differin...</td>\n",
              "      <td>0</td>\n",
              "    </tr>\n",
              "    <tr>\n",
              "      <th>4</th>\n",
              "      <td>request book information</td>\n",
              "      <td>earlier this morning i was on the phone with a...</td>\n",
              "      <td>0</td>\n",
              "    </tr>\n",
              "  </tbody>\n",
              "</table>\n",
              "</div>"
            ],
            "text/plain": [
              "                                             subject  ... label\n",
              "0            job posting - apple-iss research center  ...     0\n",
              "1                                                NaN  ...     0\n",
              "2  query : letter frequencies for text identifica...  ...     0\n",
              "3                                               risk  ...     0\n",
              "4                           request book information  ...     0\n",
              "\n",
              "[5 rows x 3 columns]"
            ]
          },
          "metadata": {
            "tags": []
          },
          "execution_count": 3
        }
      ]
    },
    {
      "cell_type": "code",
      "metadata": {
        "id": "jQiKM7Kih7_r"
      },
      "source": [
        "import pandas as pd\n",
        "import numpy as np\n",
        "import nltk\n",
        "from nltk.tokenize import word_tokenize\n",
        "from nltk import pos_tag\n",
        "from nltk.corpus import stopwords\n",
        "from nltk.stem import WordNetLemmatizer\n",
        "from sklearn.preprocessing import LabelEncoder\n",
        "from collections import defaultdict\n",
        "from nltk.corpus import wordnet as wn\n",
        "from sklearn.feature_extraction.text import TfidfVectorizer\n",
        "from sklearn import model_selection, naive_bayes, svm\n",
        "from sklearn.metrics import accuracy_score, f1_score\n",
        "\n",
        "\n",
        "#Import Seaborn\n",
        "import seaborn as sns; \n",
        "sns.set()\n",
        "\n",
        "#Import matplot library\n",
        "import matplotlib.pyplot as plt"
      ],
      "execution_count": 4,
      "outputs": []
    },
    {
      "cell_type": "code",
      "metadata": {
        "colab": {
          "base_uri": "https://localhost:8080/"
        },
        "id": "ddFE-11mhyDB",
        "outputId": "87d44e9a-95de-431f-8346-ae79daa326d8"
      },
      "source": [
        "nltk.download('punkt')\n",
        "nltk.download('wordnet')\n",
        "nltk.download('averaged_perceptron_tagger')\n",
        "nltk.download('stopwords')\n",
        "nltk.download('words')"
      ],
      "execution_count": 5,
      "outputs": [
        {
          "output_type": "stream",
          "text": [
            "[nltk_data] Downloading package punkt to /root/nltk_data...\n",
            "[nltk_data]   Unzipping tokenizers/punkt.zip.\n",
            "[nltk_data] Downloading package wordnet to /root/nltk_data...\n",
            "[nltk_data]   Unzipping corpora/wordnet.zip.\n",
            "[nltk_data] Downloading package averaged_perceptron_tagger to\n",
            "[nltk_data]     /root/nltk_data...\n",
            "[nltk_data]   Unzipping taggers/averaged_perceptron_tagger.zip.\n",
            "[nltk_data] Downloading package stopwords to /root/nltk_data...\n",
            "[nltk_data]   Unzipping corpora/stopwords.zip.\n",
            "[nltk_data] Downloading package words to /root/nltk_data...\n",
            "[nltk_data]   Unzipping corpora/words.zip.\n"
          ],
          "name": "stdout"
        },
        {
          "output_type": "execute_result",
          "data": {
            "text/plain": [
              "True"
            ]
          },
          "metadata": {
            "tags": []
          },
          "execution_count": 5
        }
      ]
    },
    {
      "cell_type": "markdown",
      "metadata": {
        "id": "4sWYOmhWbvSq"
      },
      "source": [
        "#Step 1. Remove stop words, punctuation, and non-alphanumeric text."
      ]
    },
    {
      "cell_type": "code",
      "metadata": {
        "id": "--r8JjWkU3La"
      },
      "source": [
        "# Step - a : Remove blank rows if any.\n",
        "# Corpus = Corpus[:1000]\n",
        "Corpus['message'].dropna(inplace=True)\n",
        "# Step - b : Change all the text to lower case. This is required as python interprets 'dog' and 'DOG' differently\n",
        "Corpus['message'] = [entry.lower() for entry in Corpus['message']]\n",
        "# Step - c : Tokenization : In this each entry in the corpus will be broken into set of words\n",
        "Corpus['message'] = [word_tokenize(entry) for entry in Corpus['message']]"
      ],
      "execution_count": 6,
      "outputs": []
    },
    {
      "cell_type": "code",
      "metadata": {
        "colab": {
          "base_uri": "https://localhost:8080/"
        },
        "id": "yIdSTWM9VF4B",
        "outputId": "9fc460cf-737f-4d6b-b86d-68522667916a"
      },
      "source": [
        "print(Corpus['message'][1])"
      ],
      "execution_count": 7,
      "outputs": [
        {
          "output_type": "stream",
          "text": [
            "['lang', 'classification', 'grimes', ',', 'joseph', 'e', '.', 'and', 'barbara', 'f', '.', 'grimes', ';', 'ethnologue', 'language', 'family', 'index', ';', 'pb', '.', 'isbn', ':', '0-88312', '-', '708', '-', '3', ';', 'vi', ',', '116', 'pp', '.', ';', '$', '14', '.', '00', '.', 'summer', 'institute', 'of', 'linguistics', '.', 'this', 'companion', 'volume', 'to', 'ethnologue', ':', 'languages', 'of', 'the', 'world', ',', 'twelfth', 'edition', 'lists', 'language', 'families', 'of', 'the', 'world', 'with', 'sub-groups', 'shown', 'in', 'a', 'tree', 'arrangement', 'under', 'the', 'broadest', 'classification', 'of', 'language', 'family', '.', 'the', 'language', 'family', 'index', 'facilitates', 'locating', 'language', 'names', 'in', 'the', 'ethnologue', ',', 'making', 'the', 'data', 'there', 'more', 'accessible', '.', 'internet', ':', 'academic', '.', 'books', '@', 'sil', '.', 'org', 'languages', ',', 'reference', 'lang', '&', 'culture', 'gregerson', ',', 'marilyn', ';', 'ritual', ',', 'belief', ',', 'and', 'kinship', 'in', 'sulawesi', ';', 'pb', '.', ':', 'isbn', ':', '0-88312', '-', '621', '-', '4', ';', 'ix', ',', '194', 'pp', '.', ';', '$', '25', '.', '00', '.', 'summer', 'institute', 'of', 'linguistics', '.', 'seven', 'articles', 'discuss', 'five', 'language', 'groups', 'in', 'sulawesi', ',', 'indonesia', ';', 'the', 'primary', 'focus', 'is', 'on', 'cultural', 'matters', ',', 'with', 'some', 'linguistic', 'content', '.', 'topics', 'include', 'traditional', 'religion', 'and', 'beliefs', ',', 'certain', 'ceremonies', ',', 'and', 'kinship', '.', 'internet', ':', 'academic', '.', 'books', '@', 'sil', '.', 'org', 'language', 'and', 'society', ',', 'indonesia', 'computers', '&', 'ling', 'weber', ',', 'david', 'j', '.', ',', 'stephen', 'r', '.', 'mcconnel', ',', 'diana', 'd', '.', 'weber', ',', 'and', 'beth', 'j', '.', 'bryson', ';', 'primer', ':', 'a', 'tool', 'for', 'developing', 'early', 'reading', 'materials', ';', 'pb', '.', ':', 'isbn', ':', '0-88313', '-', '678', '-', '8', ';', 'xvi', ',', '266', 'pp', '.', '+', 'ms-dos', 'software', ';', '$', '26', '.', '00', '.', 'summer', 'institute', 'of', 'linguistics', '.', 'the', 'authors', 'present', 'a', 'computer', 'program', 'and', 'instructions', 'for', 'developing', 'reading', 'materials', 'in', 'languages', 'with', 'little', 'or', 'no', 'background', 'in', 'literacy', '.', 'the', 'book', 'is', 'structured', 'as', 'a', 'how-to', 'manual', 'with', 'step', 'by', 'step', 'procedures', 'to', 'establish', 'an', 'appropriate', 'primer', 'sequence', 'and', 'to', 'organize', 'words', ',', 'phrases', ',', 'and', 'sentences', 'that', 'correlate', 'with', 'the', 'sequence', '.', 'it', 'presupposes', 'a', 'thorough', 'knowledge', 'of', 'linguistics', '.', 'internet', ':', 'academic', '.', 'books', '@', 'sil', '.', 'org', 'literacy', ',', 'computer']\n"
          ],
          "name": "stdout"
        }
      ]
    },
    {
      "cell_type": "code",
      "metadata": {
        "id": "8VfJdeFdhZ1Y"
      },
      "source": [
        "# Step - d : Remove Stop words, Non-Numeric and perfom Word Stemming/Lemmenting.\n",
        "# WordNetLemmatizer requires Pos tags to understand if the word is noun or verb or adjective etc. By default it is set to Noun\n",
        "tag_map = defaultdict(lambda : wn.NOUN)\n",
        "tag_map['J'] = wn.ADJ\n",
        "tag_map['V'] = wn.VERB\n",
        "tag_map['R'] = wn.ADV\n",
        "for index,entry in enumerate(Corpus['message']):\n",
        "    # Declaring Empty List to store the words that follow the rules for this step\n",
        "    Final_words = []\n",
        "    # Initializing WordNetLemmatizer()\n",
        "    word_Lemmatized = WordNetLemmatizer()\n",
        "    # pos_tag function below will provide the 'tag' i.e if the word is Noun(N) or Verb(V) or something else.\n",
        "    for word, tag in pos_tag(entry):\n",
        "        # Below condition is to check for Stop wLoadingords and consider only alphabets\n",
        "        if word not in stopwords.words('english') and word.isalpha():\n",
        "            word_Final = word_Lemmatized.lemmatize(word,tag_map[tag[0]])\n",
        "            Final_words.append(word_Final)\n",
        "    # The final processed set of words for each iteration will be stored in 'text_final'\n",
        "    Corpus.loc[index,'text_final0'] = str(Final_words)\n",
        "    "
      ],
      "execution_count": null,
      "outputs": []
    },
    {
      "cell_type": "code",
      "metadata": {
        "id": "E-GHuwnMfX2_"
      },
      "source": [
        "print(Corpus['text_final0'])"
      ],
      "execution_count": null,
      "outputs": []
    },
    {
      "cell_type": "code",
      "metadata": {
        "id": "eJD4uLD2VF9Q"
      },
      "source": [
        "words = set(nltk.corpus.words.words())\n",
        "\n",
        "def clean_sent(sent):\n",
        "    return \" \".join(w for w in nltk.wordpunct_tokenize(sent) \\\n",
        "     if w.lower() in words or not w.isalpha())\n",
        "    \n",
        "Corpus['text_final0'] = Corpus['text_final0'].apply(clean_sent)\n",
        "\n",
        "print(Corpus['text_final0'])"
      ],
      "execution_count": null,
      "outputs": []
    },
    {
      "cell_type": "markdown",
      "metadata": {
        "id": "99Qo9mjBVGCa"
      },
      "source": [
        "#Splitting data into Training and Testing data\n"
      ]
    },
    {
      "cell_type": "code",
      "metadata": {
        "id": "neg_eLMn4ulF"
      },
      "source": [
        "Train_X, Test_X, Train_Y, Test_Y = model_selection.train_test_split(Corpus['text_final0'],Corpus['label'],test_size=0.3, random_state = 42)"
      ],
      "execution_count": null,
      "outputs": []
    },
    {
      "cell_type": "code",
      "metadata": {
        "id": "nhVC6uQ74w6I"
      },
      "source": [
        "df = pd.DataFrame(Test_Y)\n",
        "lb=df.value_counts().index.tolist()\n",
        "val=df.value_counts().values.tolist()\n",
        "exp=(0.025,0)\n",
        "clr=('orange','blue')\n",
        "plt.figure(figsize=(10,5),dpi=140)\n",
        "plt.pie(x=val,explode=exp,labels=lb,colors=clr,autopct='%2.0f%%',pctdistance=0.5, shadow=True,radius=0.9)\n",
        "plt.legend([\"0 = NO SPAM\",'1 = SPAM'])\n",
        "plt.show()"
      ],
      "execution_count": null,
      "outputs": []
    },
    {
      "cell_type": "code",
      "metadata": {
        "id": "abSTi2wqkKZr"
      },
      "source": [
        "print(Corpus.shape)\n",
        "\n",
        "print(Test_X)"
      ],
      "execution_count": null,
      "outputs": []
    },
    {
      "cell_type": "markdown",
      "metadata": {
        "id": "_2KEs0-hatUi"
      },
      "source": [
        "# Step 2. Calculate the normalized TFIDF in the corresponding element of the weight matrix.\n",
        "#Variables : max_features"
      ]
    },
    {
      "cell_type": "code",
      "metadata": {
        "id": "8dJnIbSZaLfc"
      },
      "source": [
        "# Tfidf_vect = TfidfVectorizer(max_features=15000) #Tfidfvectorizer makes\n",
        "# X = Tfidf_vect.fit_transform(Corpus['text_final0'])\n",
        "# Train_X_Tfidf = Tfidf_vect.transform(Train_X)   \n",
        "# Test_X_Tfidf = Tfidf_vect.transform(Test_X)"
      ],
      "execution_count": null,
      "outputs": []
    },
    {
      "cell_type": "code",
      "metadata": {
        "id": "OBYY5P0I4nW_"
      },
      "source": [
        "Tfidf_vect = TfidfVectorizer(max_features=15000) #Tfidfvectorizer makes\n",
        "X = Tfidf_vect.fit_transform(Corpus['text_final0'])"
      ],
      "execution_count": null,
      "outputs": []
    },
    {
      "cell_type": "code",
      "metadata": {
        "id": "vcOH5x0ECHGt"
      },
      "source": [
        "print(X.shape)\n",
        "# print(Train_X.shape)"
      ],
      "execution_count": null,
      "outputs": []
    },
    {
      "cell_type": "markdown",
      "metadata": {
        "id": "3IMuHRMMvZw8"
      },
      "source": [
        "# Step 3. Select the features according to the FCD method and get a new vector space model."
      ]
    },
    {
      "cell_type": "code",
      "metadata": {
        "id": "-LDDEiZ0_IH-"
      },
      "source": [
        "print(type(X))\n",
        "import scipy\n",
        "#iterate over x and find max value of a word\n",
        "cx = scipy.sparse.coo_matrix(X)\n",
        "# max_term = 0\n",
        "# min_term = 100\n",
        "\n",
        "a0 = {}\n",
        "a1 = {}\n",
        "for i,j,v in zip(cx.row, cx.col, cx.data):\n",
        "    # print (\"(%d, %d), %s\" % (i,j,v))\n",
        "    # max_term = max(max_term, j)\n",
        "    # min_term = min(min_term,j)\n",
        "    if Corpus['label'][i] == 0:\n",
        "      if j in a0:\n",
        "      # incerementing the count by 1\n",
        "        a0[j] += 1\n",
        "      else:\n",
        "      # setting the count to 1\n",
        "        a0[j] = 1\n",
        "    else:\n",
        "      if j in a1:\n",
        "      # incerementing the count by 1\n",
        "        a1[j] += 1\n",
        "      else:\n",
        "      # setting the count to 1\n",
        "        a1[j] = 1\n",
        "\n",
        "# print(max_term)\n",
        "# print(min_term)"
      ],
      "execution_count": null,
      "outputs": []
    },
    {
      "cell_type": "code",
      "metadata": {
        "id": "ShJ9PfQYvuiu"
      },
      "source": [
        "(l,m) = X.shape\n",
        "fc = np.zeros(m)\n",
        "\n",
        "for j in range(m):\n",
        "  a0_j=0\n",
        "  a1_j=0\n",
        "  if j in a0:\n",
        "    a0_j=a0[j]\n",
        "  if j in a1:\n",
        "    a1_j=a1[j]\n",
        "  fc[j] = (abs((a0_j - a1_j)/(a0_j + a1_j)))\n",
        "  print(j, fc[j])"
      ],
      "execution_count": null,
      "outputs": []
    },
    {
      "cell_type": "code",
      "metadata": {
        "id": "xVQ0Vy813DtG"
      },
      "source": [
        "count = 0\n",
        "for i in range(m):\n",
        "  if(fc[i] == 1.0):\n",
        "    count = count + 1\n",
        "\n",
        "print(count)"
      ],
      "execution_count": null,
      "outputs": []
    },
    {
      "cell_type": "code",
      "metadata": {
        "id": "Bb_spNq46E6b"
      },
      "source": [
        "import numpy as np\n",
        "from scipy.sparse import csr_matrix\n",
        "import multiprocessing\n",
        "\n",
        "ct = scipy.sparse.coo_matrix(X)\n",
        "n_row = []\n",
        "n_col = []\n",
        "n_data = []\n",
        "\n",
        "r_m = {}\n",
        "j = 0\n",
        "\n",
        "for i in range(len(ct.col)):\n",
        "  if (fc[ct.col[i]] == 1.0):\n",
        "    if (ct.col[i] not in r_m):\n",
        "      r_m[ct.col[i]] = j\n",
        "      j = j + 1\n",
        "    n_row.append(ct.row[i])\n",
        "    n_col.append(r_m[ct.col[i]])\n",
        "    n_data.append(ct.data[i])\n"
      ],
      "execution_count": null,
      "outputs": []
    },
    {
      "cell_type": "code",
      "metadata": {
        "id": "Ob0iF80gEPK-"
      },
      "source": [
        "print(min((n_col)))\n",
        "print(j)"
      ],
      "execution_count": null,
      "outputs": []
    },
    {
      "cell_type": "code",
      "metadata": {
        "id": "LeAn5rdhClSB"
      },
      "source": [
        "X1 = csr_matrix((n_data, (n_row, n_col)), shape = (max(ct.row)+1, j)).toarray()\n",
        "\n",
        "print(X1.shape)"
      ],
      "execution_count": null,
      "outputs": []
    },
    {
      "cell_type": "code",
      "metadata": {
        "id": "X5nn9ZpFImRv"
      },
      "source": [
        "Train_X, Test_X, Train_Y, Test_Y = model_selection.train_test_split(X1,Corpus['label'],test_size=0.3, random_state = 42)"
      ],
      "execution_count": null,
      "outputs": []
    },
    {
      "cell_type": "markdown",
      "metadata": {
        "id": "Zi8o9yPKjqSg"
      },
      "source": [
        "# Step 4. Construct the new semantic space model by means of LSI. \n",
        "#Variables: n_components"
      ]
    },
    {
      "cell_type": "code",
      "metadata": {
        "id": "hO3MWUX7kA3F"
      },
      "source": [
        "import sklearn\n",
        "from sklearn.decomposition import TruncatedSVD\n",
        "SVD = sklearn.decomposition.TruncatedSVD(n_components=20, algorithm='randomized', n_iter=5, random_state=None, tol=0.0)\n",
        "SVD.fit(X1)\n",
        "Train_X_SVD = SVD.transform(Train_X)\n",
        "Test_X_SVD = SVD.transform(Test_X)"
      ],
      "execution_count": null,
      "outputs": []
    },
    {
      "cell_type": "code",
      "metadata": {
        "id": "VELuRZlUht4F"
      },
      "source": [
        "# from sklearn.utils.extmath import randomized_svd\n",
        "\n",
        "# U, Sigma, VT = randomized_svd(Train_X_Tfidf, \n",
        "#                               n_components=15,\n",
        "#                               n_iter=5,\n",
        "#                               random_state=None)\n",
        "# Train_X_SVD = U"
      ],
      "execution_count": null,
      "outputs": []
    },
    {
      "cell_type": "code",
      "metadata": {
        "id": "sIIj8_JuegeK"
      },
      "source": [
        "print(Train_X_SVD.shape)\n",
        "print(Test_X_SVD.shape)"
      ],
      "execution_count": null,
      "outputs": []
    },
    {
      "cell_type": "code",
      "metadata": {
        "id": "BM6EgJuqe4-m"
      },
      "source": [
        "# from sklearn.ensemble import RandomForestClassifier\n",
        "\n",
        "# vectorizer = TfidfVectorizer(max_df=0.5, stop_words='english', use_idf=True)\n",
        "# lsa = TruncatedSVD(n_components=20)\n",
        "# Tfidf_vect.fit(Corpus['text_final0'])\n",
        "\n",
        "# train_text = vectorizer.fit_transform(Train_X)\n",
        "# test_text = vectorizer.fit_transform(Test_X)\n",
        "\n",
        "# train_text = lsa.fit_transform(train_text)\n",
        "# test_text = lsa.fit_transform(test_text)\n",
        "\n",
        "\n",
        "# clf = RandomForestClassifier(max_depth=20, random_state=0)\n",
        "# clf.fit(train_text, Train_Y)\n",
        "# clf.score(test_text,Test_Y)"
      ],
      "execution_count": null,
      "outputs": []
    },
    {
      "cell_type": "markdown",
      "metadata": {
        "id": "_4CWHO4qj3dJ"
      },
      "source": [
        "#Step 5. Use the SVM classifier on the semantic space model."
      ]
    },
    {
      "cell_type": "markdown",
      "metadata": {
        "id": "BIqyZ_ajkZj4"
      },
      "source": [
        "#5.1 RandomForest"
      ]
    },
    {
      "cell_type": "code",
      "metadata": {
        "id": "HYiSJ6c4jS-8"
      },
      "source": [
        "from sklearn.ensemble import RandomForestClassifier\n",
        "clf = RandomForestClassifier()\n",
        "clf.fit(Train_X_SVD, Train_Y)\n",
        "clf.score(Test_X_SVD,Test_Y)"
      ],
      "execution_count": null,
      "outputs": []
    },
    {
      "cell_type": "code",
      "metadata": {
        "id": "HevhCQiRe5aV"
      },
      "source": [
        "from sklearn.ensemble import RandomForestClassifier\n",
        "clf = RandomForestClassifier(max_depth=20, random_state=0)\n",
        "clf.fit(Train_X, Train_Y)\n",
        "clf.score(Test_X,Test_Y)"
      ],
      "execution_count": null,
      "outputs": []
    },
    {
      "cell_type": "markdown",
      "metadata": {
        "id": "-dZUA6_vkfYA"
      },
      "source": [
        "# 5.2 SVM"
      ]
    },
    {
      "cell_type": "code",
      "metadata": {
        "id": "U0DysPxEkijS"
      },
      "source": [
        "from sklearn import svm\n",
        "clf = svm.SVC()\n",
        "clf.fit(Train_X_SVD, Train_Y)\n",
        "clf.score(Test_X_SVD,Test_Y)"
      ],
      "execution_count": null,
      "outputs": []
    },
    {
      "cell_type": "code",
      "metadata": {
        "id": "PBXGdY77lFS9"
      },
      "source": [
        "from sklearn import svm\n",
        "clf = svm.SVC()\n",
        "clf.fit(Train_X, Train_Y)\n",
        "clf.score(Test_X,Test_Y)"
      ],
      "execution_count": null,
      "outputs": []
    },
    {
      "cell_type": "markdown",
      "metadata": {
        "id": "Cw9F4ne0vpCU"
      },
      "source": [
        "# Step 6. Obtain the categorization performance over the data set."
      ]
    }
  ]
}